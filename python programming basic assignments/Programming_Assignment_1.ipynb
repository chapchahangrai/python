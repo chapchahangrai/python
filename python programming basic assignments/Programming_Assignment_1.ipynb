{
 "cells": [
  {
   "cell_type": "markdown",
   "metadata": {},
   "source": [
    "# Programming Assignment 1"
   ]
  },
  {
   "cell_type": "markdown",
   "metadata": {},
   "source": [
    "####  1) Write a Python program to print \"Hello Python\"?"
   ]
  },
  {
   "cell_type": "code",
   "execution_count": 2,
   "metadata": {},
   "outputs": [
    {
     "name": "stdout",
     "output_type": "stream",
     "text": [
      "Hello Python\n"
     ]
    }
   ],
   "source": [
    "# program to print 'hello world'\n",
    "print(\"Hello Python\")"
   ]
  },
  {
   "cell_type": "markdown",
   "metadata": {},
   "source": [
    "#### 2) Write a Python program to do arithmetical operations addition and division.?"
   ]
  },
  {
   "cell_type": "code",
   "execution_count": 12,
   "metadata": {},
   "outputs": [
    {
     "name": "stdout",
     "output_type": "stream",
     "text": [
      "enter the first number==> 45\n",
      "enter the second number==> 78\n",
      "choose one of the operaton \n",
      "1) + \n",
      "2) /\n",
      "enter the operation==> +\n",
      "Addition value is 123.0\n"
     ]
    }
   ],
   "source": [
    "# program to do arithmetical operatoins addition and divison\n",
    "a = float(input(\"enter the first number==> \"))\n",
    "b = float(input(\"enter the second number==> \"))\n",
    "\n",
    "def operation(a,b):\n",
    "    try:\n",
    "        print(\"choose one of the operaton \\n1) + \\n2) /\")\n",
    "        c = input(\"enter the operation==> \")\n",
    "        if c == '+':\n",
    "            return print(\"Addition value is {}\".format(a + b))\n",
    "        elif c == '/':\n",
    "            return print(\"Division value is {}\".format(a / b))\n",
    "        else:\n",
    "            print(\"choose the right operation\")\n",
    "    except Exception as e:\n",
    "        print(\"Error==> \",e)\n",
    "\n",
    "operation(a,b)"
   ]
  },
  {
   "cell_type": "markdown",
   "metadata": {},
   "source": [
    "#### 3) Write a Python program to find the area of a triangle?"
   ]
  },
  {
   "cell_type": "code",
   "execution_count": 13,
   "metadata": {},
   "outputs": [
    {
     "name": "stdout",
     "output_type": "stream",
     "text": [
      "Enter the base of a triangle ==> 20\n",
      "Enter the height of a triangle ==> 40\n",
      "Area of a triangle is 400.0\n"
     ]
    }
   ],
   "source": [
    "# program to find the area of a triangle\n",
    "base = float(input(\"Enter the base of a triangle ==> \"))\n",
    "height = float(input(\"Enter the height of a triangle ==> \"))\n",
    "\n",
    "def area_of_triangle(base,height):\n",
    "    try:\n",
    "        area = base * height / 2\n",
    "        return print(\"Area of a triangle is {}\".format(area))\n",
    "    except Exception as e:\n",
    "        print(e)\n",
    "\n",
    "area_of_triangle(base,height)"
   ]
  },
  {
   "cell_type": "markdown",
   "metadata": {},
   "source": [
    "#### 4) Write a Python program to swap two variables?"
   ]
  },
  {
   "cell_type": "code",
   "execution_count": 15,
   "metadata": {},
   "outputs": [
    {
     "name": "stdout",
     "output_type": "stream",
     "text": [
      "Enter the first variable ==> hello\n",
      "Enter the second variable ==> world\n",
      "Value before swap \n",
      " a = hello b = world\n",
      "Value after swap \n",
      " a = world b = hello\n"
     ]
    }
   ],
   "source": [
    "# code to swap two variable \n",
    "a = input('Enter the first variable ==> ')\n",
    "b = input('Enter the second variable ==> ')\n",
    "\n",
    "def exchange(a,b):\n",
    "    try:\n",
    "        print('Value before swap \\n a = {} b = {}'.format(a,b))\n",
    "        c = a\n",
    "        a = b\n",
    "        b = c\n",
    "        return print('Value after swap \\n a = {} b = {}'.format(a,b))\n",
    "    except Exception as e:\n",
    "        print(e)\n",
    "\n",
    "\n",
    "exchange(a,b)"
   ]
  },
  {
   "cell_type": "markdown",
   "metadata": {},
   "source": [
    "#### 5) Write a Python program to generate a random number?\n",
    "    \n",
    "   - generate a random number using random module"
   ]
  },
  {
   "cell_type": "code",
   "execution_count": 35,
   "metadata": {},
   "outputs": [
    {
     "name": "stdout",
     "output_type": "stream",
     "text": [
      "output of a ==  0.6278677743648968\n",
      "output of b ==  691\n",
      "output of c when step is 2 ==  135\n",
      "output of d ==  h\n",
      "output of e ==  [7, 6, 1, 3, 24]\n"
     ]
    }
   ],
   "source": [
    "import random\n",
    "\n",
    "# random.random() method returns a random float number between 0.0 to 1.0\n",
    "\n",
    "a = random.random()\n",
    "print(\"output of a == \",a)\n",
    "\n",
    "# random.randint() method returns a random integer between the specified integers\n",
    "\n",
    "b = random.randint(35,1000)\n",
    "print(\"output of b == \",b)\n",
    "\n",
    "# random.randrange() method returns a randomly selected element from the range created by the start, stop and step arguments.\n",
    "\n",
    "c = random.randrange(45,167,2)\n",
    "print(\"output of c when step is 2 == \", c)\n",
    "\n",
    "# random.choice() method returns a randomly selected element from a non-empty sequence.\n",
    "\n",
    "d = random.choice('hello world')\n",
    "print(\"output of d == \",d)\n",
    "\n",
    "# The random.shuffle() method randomly reorders the elements in a list.\n",
    "\n",
    "e = [24,3,1,7,6]\n",
    "\n",
    "random.shuffle(e)\n",
    "\n",
    "print(\"output of e == \",e)"
   ]
  },
  {
   "cell_type": "code",
   "execution_count": null,
   "metadata": {},
   "outputs": [],
   "source": []
  },
  {
   "cell_type": "code",
   "execution_count": null,
   "metadata": {},
   "outputs": [],
   "source": []
  }
 ],
 "metadata": {
  "kernelspec": {
   "display_name": "Python 3",
   "language": "python",
   "name": "python3"
  },
  "language_info": {
   "codemirror_mode": {
    "name": "ipython",
    "version": 3
   },
   "file_extension": ".py",
   "mimetype": "text/x-python",
   "name": "python",
   "nbconvert_exporter": "python",
   "pygments_lexer": "ipython3",
   "version": "3.8.5"
  }
 },
 "nbformat": 4,
 "nbformat_minor": 4
}
