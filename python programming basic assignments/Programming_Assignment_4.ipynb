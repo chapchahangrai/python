{
 "cells": [
  {
   "cell_type": "markdown",
   "metadata": {},
   "source": [
    "## Programming Assignment 4"
   ]
  },
  {
   "cell_type": "markdown",
   "metadata": {},
   "source": [
    "#### 1) Write a Python Program to Find the Factorial of a Number?"
   ]
  },
  {
   "cell_type": "code",
   "execution_count": 20,
   "metadata": {},
   "outputs": [
    {
     "name": "stdout",
     "output_type": "stream",
     "text": [
      "enter the number ==> 5\n",
      "Factorial of 5 is 120\n"
     ]
    }
   ],
   "source": [
    "# program for factorial of a number\n",
    "\n",
    "\n",
    "def factorial(a):\n",
    "    fact = 1\n",
    "    if a <0 :\n",
    "        print(\" There factorial of negative number is none\")\n",
    "    elif a == 0:\n",
    "        print(\" Factorial of zero is 1\")\n",
    "    else:\n",
    "        for i in range(1,a+1):\n",
    "            fact = fact *i\n",
    "        print(\"Factorial of {0} is {1}\".format(a,fact))\n",
    "\n",
    "a = int(input(\"enter the number ==> \"))\n",
    "\n",
    "factorial(a)"
   ]
  },
  {
   "cell_type": "markdown",
   "metadata": {},
   "source": [
    "#### 2) Write a Python Program to Display the multiplication Table?"
   ]
  },
  {
   "cell_type": "code",
   "execution_count": 28,
   "metadata": {},
   "outputs": [
    {
     "name": "stdout",
     "output_type": "stream",
     "text": [
      "enter the number13\n",
      "13 * 1 =  13\n",
      "13 * 2 =  26\n",
      "13 * 3 =  39\n",
      "13 * 4 =  52\n",
      "13 * 5 =  65\n",
      "13 * 6 =  78\n",
      "13 * 7 =  91\n",
      "13 * 8 =  104\n",
      "13 * 9 =  117\n",
      "13 * 10 =  130\n"
     ]
    }
   ],
   "source": [
    "# program to display the multiplication table\n",
    "\n",
    "def multiply(a):\n",
    "    for i in range(1,11):\n",
    "        b = a * i\n",
    "        print(\"{0} * {1} = \".format(a,i),b)\n",
    "\n",
    "a = int(input(\"enter the number\"))\n",
    "\n",
    "multiply(a)"
   ]
  },
  {
   "cell_type": "markdown",
   "metadata": {},
   "source": [
    "#### 3) Write a Python Program to Print the Fibonacci sequence?"
   ]
  },
  {
   "cell_type": "code",
   "execution_count": 41,
   "metadata": {},
   "outputs": [
    {
     "name": "stdout",
     "output_type": "stream",
     "text": [
      "enter the step ==>5\n",
      "0\n",
      "1\n",
      "1\n",
      "2\n",
      "3\n"
     ]
    }
   ],
   "source": [
    "# program to print fibonaci sequence\n",
    "\n",
    "def fibonaci(term,n1,n2):\n",
    "    n1 ,n2 = 0,1\n",
    "    count = 0\n",
    "    if term ==0:\n",
    "        print(\"enter positive number\")\n",
    "    elif term == 1:\n",
    "        print(\" fibonacci sequence ==>\",n1)\n",
    "    else:\n",
    "        while count < term:\n",
    "            print(n1)\n",
    "            new = n1 + n2\n",
    "            n1 = n2\n",
    "            n2 = new\n",
    "            count += 1\n",
    "term = int(input(\"enter the step ==>\"))\n",
    "\n",
    "fibonaci(term,n1,n2)"
   ]
  },
  {
   "cell_type": "markdown",
   "metadata": {},
   "source": [
    "#### 4) Write a Python Program to Check Armstrong Number?"
   ]
  },
  {
   "cell_type": "code",
   "execution_count": 66,
   "metadata": {},
   "outputs": [
    {
     "name": "stdout",
     "output_type": "stream",
     "text": [
      "enter the number ==>407\n",
      "407 is armstrong\n"
     ]
    }
   ],
   "source": [
    "# program for armstrong number\n",
    "def armstrong(number):\n",
    "    add = 0\n",
    "    temp = number\n",
    "    while temp> 0:\n",
    "        new = temp % 10\n",
    "        add += new ** 3\n",
    "        temp //= 10\n",
    "    if number == add:\n",
    "        print(number,'is armstrong')\n",
    "    else:\n",
    "        print(number,'is not armstrong')\n",
    "\n",
    "number = int(input(\"enter the number ==>\"))\n",
    "\n",
    "armstrong(number)"
   ]
  },
  {
   "cell_type": "markdown",
   "metadata": {},
   "source": [
    "#### 5) Write a Python Program to Find Armstrong Number in an Interval?"
   ]
  },
  {
   "cell_type": "code",
   "execution_count": 75,
   "metadata": {},
   "outputs": [
    {
     "name": "stdout",
     "output_type": "stream",
     "text": [
      "enter the start number ==>100\n",
      "enter the end number ==>10000\n",
      "153\n",
      "370\n",
      "371\n",
      "407\n",
      "1634\n",
      "8208\n",
      "9474\n"
     ]
    }
   ],
   "source": [
    "# program for armstrong interva number\n",
    "def armstrong_interval(start,end):\n",
    "        for num in range(start,end+1):\n",
    "            order = len(str(num))\n",
    "            add = 0\n",
    "            temp = num\n",
    "            while temp> 0:\n",
    "                new = temp % 10\n",
    "                add += new ** order\n",
    "                temp //= 10\n",
    "            if num == add:\n",
    "                print(num)\n",
    "\n",
    "start = int(input(\"enter the start number ==>\"))\n",
    "end = int(input(\"enter the end number ==>\"))\n",
    "\n",
    "armstrong_interval(start,end)"
   ]
  },
  {
   "cell_type": "markdown",
   "metadata": {},
   "source": [
    "#### 6) Write a Python Program to Find the Sum of Natural Numbers?"
   ]
  },
  {
   "cell_type": "code",
   "execution_count": 79,
   "metadata": {},
   "outputs": [
    {
     "name": "stdout",
     "output_type": "stream",
     "text": [
      "enter the number ==>20\n",
      "The sum is 210\n"
     ]
    }
   ],
   "source": [
    "# program for sum of natural number\n",
    "\n",
    "def natural(a):\n",
    "    if a < 0:\n",
    "        print(\"Enter a positive number\")\n",
    "    else:\n",
    "        sum = 0\n",
    "        while(a > 0):\n",
    "            sum += a\n",
    "            a -= 1\n",
    "        print(\"The sum is\", sum)\n",
    "\n",
    "a = int(input(\"enter the number ==>\"))\n",
    "\n",
    "natural(a)"
   ]
  },
  {
   "cell_type": "code",
   "execution_count": null,
   "metadata": {},
   "outputs": [],
   "source": []
  }
 ],
 "metadata": {
  "kernelspec": {
   "display_name": "Python 3",
   "language": "python",
   "name": "python3"
  },
  "language_info": {
   "codemirror_mode": {
    "name": "ipython",
    "version": 3
   },
   "file_extension": ".py",
   "mimetype": "text/x-python",
   "name": "python",
   "nbconvert_exporter": "python",
   "pygments_lexer": "ipython3",
   "version": "3.8.5"
  }
 },
 "nbformat": 4,
 "nbformat_minor": 4
}
