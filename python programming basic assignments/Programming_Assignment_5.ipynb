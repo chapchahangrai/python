{
 "cells": [
  {
   "cell_type": "markdown",
   "metadata": {},
   "source": [
    "## Programming Assignment 5"
   ]
  },
  {
   "cell_type": "markdown",
   "metadata": {},
   "source": [
    "#### 1) Write a Python Program to Find LCM?"
   ]
  },
  {
   "cell_type": "code",
   "execution_count": 24,
   "metadata": {},
   "outputs": [
    {
     "name": "stdout",
     "output_type": "stream",
     "text": [
      "enter the first number ==>4\n",
      "enter the second number==>80\n",
      "The lcm of two number is 80\n"
     ]
    }
   ],
   "source": [
    "def find_lcm(a,b):\n",
    "    greater = max(a,b)\n",
    "    while(True):\n",
    "        if greater%a==0 and greater%b==0:\n",
    "            break\n",
    "        greater += 1\n",
    "    print(f\"The lcm of two number is {greater}\")\n",
    "a =int(input(\"enter the first number ==>\"))\n",
    "b =int(input(\"enter the second number==>\"))\n",
    "\n",
    "find_lcm(a,b)"
   ]
  },
  {
   "cell_type": "markdown",
   "metadata": {},
   "source": [
    "#### 2) Write a Python Program to Find HCF?"
   ]
  },
  {
   "cell_type": "code",
   "execution_count": 25,
   "metadata": {},
   "outputs": [
    {
     "name": "stdout",
     "output_type": "stream",
     "text": [
      "enter the first number==>4\n",
      "enter the second number==>12\n",
      "hcf of two number is 4\n"
     ]
    }
   ],
   "source": [
    "def find_hcf(a,b):\n",
    "    if a>b:\n",
    "        m = b\n",
    "    else:\n",
    "        m = a\n",
    "    for i in range(1,m+1):\n",
    "        if a%i==0 and b%i==0:\n",
    "            hcf = i\n",
    "    print(f'hcf of two number is {hcf}')\n",
    "a = int(input('enter the first number==>'))\n",
    "b = int(input('enter the second number==>'))\n",
    "\n",
    "find_hcf(a,b)"
   ]
  },
  {
   "cell_type": "markdown",
   "metadata": {},
   "source": [
    "#### 3) Write a Python Program to Convert Decimal to Binary, Octal and Hexadecimal?"
   ]
  },
  {
   "cell_type": "code",
   "execution_count": 28,
   "metadata": {},
   "outputs": [
    {
     "name": "stdout",
     "output_type": "stream",
     "text": [
      "Enter the number ==>55\n",
      "=== conversion of the number ===\n",
      "Binary ==  0b110111\n",
      "Octal ==  0o67\n",
      "Hexadecimal ==  0x37\n"
     ]
    }
   ],
   "source": [
    "def convertor(num):\n",
    "    print('=== conversion of the number ===')\n",
    "    print('Binary == ',bin(num))\n",
    "    print('Octal == ',oct(num))\n",
    "    print('Hexadecimal == ',hex(num))\n",
    "\n",
    "num = int(input('Enter the number ==>'))\n",
    "\n",
    "convertor(num)"
   ]
  },
  {
   "cell_type": "markdown",
   "metadata": {},
   "source": [
    "#### 4) Write a Python Program To Find ASCII value of a character?"
   ]
  },
  {
   "cell_type": "code",
   "execution_count": 33,
   "metadata": {},
   "outputs": [
    {
     "name": "stdout",
     "output_type": "stream",
     "text": [
      "enter the character ==>C\n",
      "=== ASCII value ===\n",
      "asci value of the character is 67\n"
     ]
    }
   ],
   "source": [
    "def ascii(a):\n",
    "    print('=== ASCII value ===')\n",
    "    print('asci value of the character is',ord(a))\n",
    "    \n",
    "a = input(\"enter the character ==>\")\n",
    "\n",
    "ascii(a)\n",
    "    "
   ]
  },
  {
   "cell_type": "markdown",
   "metadata": {},
   "source": [
    "#### 5) Write a Python Program to Make a Simple Calculator with 4 basic mathematical operations?"
   ]
  },
  {
   "cell_type": "code",
   "execution_count": 38,
   "metadata": {},
   "outputs": [
    {
     "name": "stdout",
     "output_type": "stream",
     "text": [
      "enter the first number 8\n",
      "enter the second number 2\n",
      "choose on of the following operation:\n",
      " 1) + \n",
      " 2) - \n",
      " 3) * \n",
      " 4) /\n",
      " Enter the operation/\n",
      "=== Divison ===\n",
      "output==> 4.0\n"
     ]
    }
   ],
   "source": [
    "def calculator(a,b):\n",
    "    print(\"choose on of the following operation:\\n 1) + \\n 2) - \\n 3) * \\n 4) /\")\n",
    "    operation = input(\" Enter the operation\")\n",
    "    if operation == '+' :\n",
    "        print(\"=== Addition ===\")\n",
    "        c = a+b\n",
    "        print('output==>',c)\n",
    "    elif operation == '-' :\n",
    "        print(\"=== Subtraction ===\")\n",
    "        c = a-b\n",
    "        print('output===>'.c)\n",
    "    elif operation == '*':\n",
    "        print(\"=== Multiplication ===\")\n",
    "        c = a*b\n",
    "        print('output==>',c)\n",
    "    elif operation == '/':\n",
    "        print(\"=== Divison ===\")\n",
    "        c = a /b\n",
    "        print('output==>',c)\n",
    "    else:\n",
    "        print(\"select the right operation\")\n",
    "a = float(input(\"enter the first number \"))\n",
    "b = float(input(\"enter the second number \"))\n",
    "\n",
    "calculator(a,b)"
   ]
  },
  {
   "cell_type": "code",
   "execution_count": null,
   "metadata": {},
   "outputs": [],
   "source": []
  }
 ],
 "metadata": {
  "kernelspec": {
   "display_name": "Python 3",
   "language": "python",
   "name": "python3"
  },
  "language_info": {
   "codemirror_mode": {
    "name": "ipython",
    "version": 3
   },
   "file_extension": ".py",
   "mimetype": "text/x-python",
   "name": "python",
   "nbconvert_exporter": "python",
   "pygments_lexer": "ipython3",
   "version": "3.8.5"
  }
 },
 "nbformat": 4,
 "nbformat_minor": 4
}
