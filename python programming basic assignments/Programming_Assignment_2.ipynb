{
 "cells": [
  {
   "cell_type": "markdown",
   "metadata": {},
   "source": [
    "## Programming Assignment 2"
   ]
  },
  {
   "cell_type": "markdown",
   "metadata": {},
   "source": [
    "#### 1) Write a Python program to convert kilometers to miles?"
   ]
  },
  {
   "cell_type": "code",
   "execution_count": 13,
   "metadata": {},
   "outputs": [
    {
     "name": "stdout",
     "output_type": "stream",
     "text": [
      "enter the number ==> 500\n",
      "The value of 500.0 m is 0.5 km\n"
     ]
    }
   ],
   "source": [
    "# program to conver kilometer into meter\n",
    "\n",
    "def converter(m):\n",
    "    try:\n",
    "        km = m / 1000\n",
    "        return print(\"The value of {0} m is {1} km\".format(m,km))\n",
    "    except Exception as e:\n",
    "        print(e)\n",
    "\n",
    "m = float(input(\"enter the number ==> \"))\n",
    "\n",
    "converter (m)"
   ]
  },
  {
   "cell_type": "markdown",
   "metadata": {},
   "source": [
    "#### 2) Write a Python program to convert Celsius to Fahrenheit?"
   ]
  },
  {
   "cell_type": "code",
   "execution_count": 11,
   "metadata": {},
   "outputs": [
    {
     "name": "stdout",
     "output_type": "stream",
     "text": [
      "enter the number ==> 30\n",
      "The value of 30.0°c is 86.0°f\n"
     ]
    }
   ],
   "source": [
    "# program to convert Celsius to Fahrenheit\n",
    "\n",
    "def converter(c):\n",
    "    try:\n",
    "        f = (c * 9/5) +32\n",
    "        return print(\"The value of {0}°c is {1}°f\".format(c,f))\n",
    "    except Exception as e:\n",
    "        print(e)\n",
    "\n",
    "c = float(input(\"enter the number ==> \"))\n",
    "\n",
    "converter (c)"
   ]
  },
  {
   "cell_type": "markdown",
   "metadata": {},
   "source": [
    "#### 3) Write a Python program to display calendar?"
   ]
  },
  {
   "cell_type": "code",
   "execution_count": 7,
   "metadata": {},
   "outputs": [
    {
     "name": "stdout",
     "output_type": "stream",
     "text": [
      "enter the year ==> 2021\n",
      "                                  2021\n",
      "\n",
      "      January                   February                   March\n",
      "Mo Tu We Th Fr Sa Su      Mo Tu We Th Fr Sa Su      Mo Tu We Th Fr Sa Su\n",
      "             1  2  3       1  2  3  4  5  6  7       1  2  3  4  5  6  7\n",
      " 4  5  6  7  8  9 10       8  9 10 11 12 13 14       8  9 10 11 12 13 14\n",
      "11 12 13 14 15 16 17      15 16 17 18 19 20 21      15 16 17 18 19 20 21\n",
      "18 19 20 21 22 23 24      22 23 24 25 26 27 28      22 23 24 25 26 27 28\n",
      "25 26 27 28 29 30 31                                29 30 31\n",
      "\n",
      "       April                      May                       June\n",
      "Mo Tu We Th Fr Sa Su      Mo Tu We Th Fr Sa Su      Mo Tu We Th Fr Sa Su\n",
      "          1  2  3  4                      1  2          1  2  3  4  5  6\n",
      " 5  6  7  8  9 10 11       3  4  5  6  7  8  9       7  8  9 10 11 12 13\n",
      "12 13 14 15 16 17 18      10 11 12 13 14 15 16      14 15 16 17 18 19 20\n",
      "19 20 21 22 23 24 25      17 18 19 20 21 22 23      21 22 23 24 25 26 27\n",
      "26 27 28 29 30            24 25 26 27 28 29 30      28 29 30\n",
      "                          31\n",
      "\n",
      "        July                     August                  September\n",
      "Mo Tu We Th Fr Sa Su      Mo Tu We Th Fr Sa Su      Mo Tu We Th Fr Sa Su\n",
      "          1  2  3  4                         1             1  2  3  4  5\n",
      " 5  6  7  8  9 10 11       2  3  4  5  6  7  8       6  7  8  9 10 11 12\n",
      "12 13 14 15 16 17 18       9 10 11 12 13 14 15      13 14 15 16 17 18 19\n",
      "19 20 21 22 23 24 25      16 17 18 19 20 21 22      20 21 22 23 24 25 26\n",
      "26 27 28 29 30 31         23 24 25 26 27 28 29      27 28 29 30\n",
      "                          30 31\n",
      "\n",
      "      October                   November                  December\n",
      "Mo Tu We Th Fr Sa Su      Mo Tu We Th Fr Sa Su      Mo Tu We Th Fr Sa Su\n",
      "             1  2  3       1  2  3  4  5  6  7             1  2  3  4  5\n",
      " 4  5  6  7  8  9 10       8  9 10 11 12 13 14       6  7  8  9 10 11 12\n",
      "11 12 13 14 15 16 17      15 16 17 18 19 20 21      13 14 15 16 17 18 19\n",
      "18 19 20 21 22 23 24      22 23 24 25 26 27 28      20 21 22 23 24 25 26\n",
      "25 26 27 28 29 30 31      29 30                     27 28 29 30 31\n",
      "\n"
     ]
    }
   ],
   "source": [
    "# program to display calendar using calender module\n",
    "import calendar\n",
    "year = int(input(\"enter the year ==> \"))\n",
    "print(calendar.calendar(year))"
   ]
  },
  {
   "cell_type": "markdown",
   "metadata": {},
   "source": [
    "#### 4) Write a Python program to solve quadratic equation?"
   ]
  },
  {
   "cell_type": "code",
   "execution_count": 16,
   "metadata": {},
   "outputs": [
    {
     "name": "stdout",
     "output_type": "stream",
     "text": [
      "enter the first number ==> 5\n",
      "enter the second number ==> 4\n",
      "enter the third number ==> 3\n",
      "Complex Roots\n",
      "-0.4  + i 6.6332495807108\n",
      "-0.4  - i 6.6332495807108\n"
     ]
    }
   ],
   "source": [
    "# program to solve quadratic equation using math module\n",
    "import math \n",
    "\n",
    "def q_equation( a, b, c): \n",
    "  \n",
    "    \n",
    "    dis = b * b - 4 * a * c \n",
    "    sqrt_val = math.sqrt(abs(dis)) \n",
    "      \n",
    "    \n",
    "    if dis > 0: \n",
    "        print(\" real and different roots \") \n",
    "        print((-b + sqrt_val)/(2 * a)) \n",
    "        print((-b - sqrt_val)/(2 * a)) \n",
    "      \n",
    "    elif dis == 0: \n",
    "        print(\" real and same roots\") \n",
    "        print(-b / (2 * a)) \n",
    "      \n",
    "   \n",
    "    else:\n",
    "        print(\"Complex Roots\") \n",
    "        print(- b / (2 * a), \" + i\", sqrt_val) \n",
    "        print(- b / (2 * a), \" - i\", sqrt_val) \n",
    "\n",
    "a = float(input(\"enter the first number ==> \"))\n",
    "b = float(input(\"enter the second number ==> \"))\n",
    "c = float(input(\"enter the third number ==> \"))\n",
    "  \n",
    "\n",
    "if a == 0: \n",
    "        print(\"Input correct quadratic equation\") \n",
    "else:\n",
    "    q_equation(a, b, c)"
   ]
  },
  {
   "cell_type": "markdown",
   "metadata": {},
   "source": [
    "#### 5) Write a Python program to swap two variables without temp variable?"
   ]
  },
  {
   "cell_type": "code",
   "execution_count": 18,
   "metadata": {},
   "outputs": [
    {
     "name": "stdout",
     "output_type": "stream",
     "text": [
      "enter the first variable ==> hello\n",
      "enter the second variable ==> world\n",
      "values before swap a = hello b = world\n",
      "values after swap a = world b = hello\n"
     ]
    }
   ],
   "source": [
    "# program to swap two variables without temp variables\n",
    "\n",
    "def swap_var(a,b):\n",
    "    try:\n",
    "        print(\"values before swap a = {0} b = {1}\".format(a,b))\n",
    "        a , b = b ,a\n",
    "        return print(\"values after swap a = {0} b = {1}\".format(a,b))\n",
    "    except Exception as e:\n",
    "        print(e)\n",
    "\n",
    "a = input(\"enter the first variable ==> \")\n",
    "\n",
    "b = input(\"enter the second variable ==> \")\n",
    "\n",
    "swap_var(a,b)"
   ]
  },
  {
   "cell_type": "code",
   "execution_count": null,
   "metadata": {},
   "outputs": [],
   "source": []
  }
 ],
 "metadata": {
  "kernelspec": {
   "display_name": "Python 3",
   "language": "python",
   "name": "python3"
  },
  "language_info": {
   "codemirror_mode": {
    "name": "ipython",
    "version": 3
   },
   "file_extension": ".py",
   "mimetype": "text/x-python",
   "name": "python",
   "nbconvert_exporter": "python",
   "pygments_lexer": "ipython3",
   "version": "3.8.5"
  }
 },
 "nbformat": 4,
 "nbformat_minor": 4
}
